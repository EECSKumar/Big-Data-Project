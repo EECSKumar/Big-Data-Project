{
 "cells": [
  {
   "cell_type": "code",
   "execution_count": 2,
   "id": "235ec287",
   "metadata": {},
   "outputs": [
    {
     "name": "stdout",
     "output_type": "stream",
     "text": [
      "Collecting pyspark\n",
      "  Downloading pyspark-3.5.0.tar.gz (316.9 MB)\n",
      "     -------------------------------------- 316.9/316.9 MB 1.2 MB/s eta 0:00:00\n",
      "  Preparing metadata (setup.py): started\n",
      "  Preparing metadata (setup.py): finished with status 'done'\n",
      "Collecting py4j==0.10.9.7\n",
      "  Downloading py4j-0.10.9.7-py2.py3-none-any.whl (200 kB)\n",
      "     -------------------------------------- 200.5/200.5 kB 6.1 MB/s eta 0:00:00\n",
      "Building wheels for collected packages: pyspark\n",
      "  Building wheel for pyspark (setup.py): started\n",
      "  Building wheel for pyspark (setup.py): still running...\n",
      "  Building wheel for pyspark (setup.py): finished with status 'done'\n",
      "  Created wheel for pyspark: filename=pyspark-3.5.0-py2.py3-none-any.whl size=317425388 sha256=e12766d11060c9a5370b552697aa4755956d28fee317636a1c71b085f260f115\n",
      "  Stored in directory: c:\\users\\abc\\appdata\\local\\pip\\cache\\wheels\\72\\3c\\32\\f0f20da5a933f8c6c5a1a2184a9e516652ed3eebeb49f5ddd0\n",
      "Successfully built pyspark\n",
      "Installing collected packages: py4j, pyspark\n",
      "Successfully installed py4j-0.10.9.7 pyspark-3.5.0\n",
      "Note: you may need to restart the kernel to use updated packages.\n"
     ]
    }
   ],
   "source": [
    "pip install pyspark"
   ]
  },
  {
   "cell_type": "code",
   "execution_count": 95,
   "id": "6ac0f833",
   "metadata": {},
   "outputs": [],
   "source": [
    "from pyspark.sql import SparkSession\n",
    "from pyspark.ml.feature import VectorAssembler\n",
    "from pyspark.ml.regression import LinearRegression\n",
    "from pyspark.ml import Pipeline\n",
    "from pyspark.sql.functions import col\n",
    "from pyspark.ml.evaluation import RegressionEvaluator"
   ]
  },
  {
   "cell_type": "code",
   "execution_count": 96,
   "id": "8804851f",
   "metadata": {},
   "outputs": [],
   "source": [
    "from pyspark.sql import SparkSession\n",
    "\n",
    "try:\n",
    "    # If a SparkContext already exists, use it\n",
    "    spark = SparkSession.builder.getOrCreate()\n",
    "except:\n",
    "    # If not, create a new SparkSession\n",
    "    spark = SparkSession.builder.appName(\"StockAnalysis\").getOrCreate()\n"
   ]
  },
  {
   "cell_type": "code",
   "execution_count": 97,
   "id": "f1dc9eb4",
   "metadata": {},
   "outputs": [],
   "source": [
    "from pyspark.sql import SparkSession\n",
    "from pyspark import SparkContext\n",
    "\n",
    "# Stop existing SparkContext if it exists\n",
    "if 'sc' in locals() or 'sc' in globals():\n",
    "    SparkContext.stop()\n",
    "\n",
    "# Create a new SparkSession\n",
    "spark = SparkSession.builder.appName(\"StockAnalysis\").getOrCreate()\n",
    "\n",
    "# Load the dataset\n",
    "file_path = \"C:/dataset/HistoricalQuotes.csv\"\n",
    "stock = spark.read.csv(file_path, header=True, inferSchema=True)\n"
   ]
  },
  {
   "cell_type": "code",
   "execution_count": 98,
   "id": "53f0728f",
   "metadata": {},
   "outputs": [
    {
     "name": "stdout",
     "output_type": "stream",
     "text": [
      "root\n",
      " |-- Date: string (nullable = true)\n",
      " |--  Close/Last: string (nullable = true)\n",
      " |--  Volume: double (nullable = true)\n",
      " |--  Open: string (nullable = true)\n",
      " |--  High: string (nullable = true)\n",
      " |--  Low: string (nullable = true)\n",
      "\n"
     ]
    }
   ],
   "source": [
    "stock.printSchema()"
   ]
  },
  {
   "cell_type": "code",
   "execution_count": 99,
   "id": "d182e2eb",
   "metadata": {},
   "outputs": [
    {
     "name": "stdout",
     "output_type": "stream",
     "text": [
      "+----------+-----------+----------+--------+--------+--------+\n",
      "|      Date| Close/Last|    Volume|    Open|    High|     Low|\n",
      "+----------+-----------+----------+--------+--------+--------+\n",
      "|02/28/2020|    $273.36|1.067212E8| $257.26| $278.41| $256.37|\n",
      "|02/27/2020|    $273.52|8.015138E7|  $281.1|    $286| $272.96|\n",
      "|02/26/2020|    $292.65|4.967843E7| $286.53| $297.88|  $286.5|\n",
      "|02/25/2020|    $288.08|5.766836E7| $300.95| $302.53| $286.13|\n",
      "|02/24/2020|    $298.18|5.554883E7| $297.26| $304.18| $289.23|\n",
      "+----------+-----------+----------+--------+--------+--------+\n",
      "only showing top 5 rows\n",
      "\n"
     ]
    }
   ],
   "source": [
    "stock.show(5)"
   ]
  },
  {
   "cell_type": "code",
   "execution_count": 100,
   "id": "edf06b72",
   "metadata": {},
   "outputs": [
    {
     "name": "stdout",
     "output_type": "stream",
     "text": [
      "Null count in column 'Date': 0\n",
      "Null count in column ' Close/Last': 0\n",
      "Null count in column ' Volume': 0\n",
      "Null count in column ' Open': 0\n",
      "Null count in column ' High': 0\n",
      "Null count in column ' Low': 0\n",
      "Non-null count in column 'Date': 2518\n",
      "Non-null count in column ' Close/Last': 2518\n",
      "Non-null count in column ' Volume': 2518\n",
      "Non-null count in column ' Open': 2518\n",
      "Non-null count in column ' High': 2518\n",
      "Non-null count in column ' Low': 2518\n"
     ]
    }
   ],
   "source": [
    "# Check for null values in the DataFrame\n",
    "null_check_columns = stock.columns  \n",
    "\n",
    "for column in null_check_columns:\n",
    "    # Enclose the column name with backticks\n",
    "    null_count = stock.filter(col(f\"`{column}`\").isNull()).count()\n",
    "    print(f\"Null count in column '{column}': {null_count}\")\n",
    "\n",
    "# Alternatively, you can use isNotNull() to check for non-null values\n",
    "non_null_check_columns = stock.columns\n",
    "\n",
    "for column in non_null_check_columns:\n",
    "    # Enclose the column name with backticks\n",
    "    non_null_count = stock.filter(col(f\"`{column}`\").isNotNull()).count()\n",
    "    print(f\"Non-null count in column '{column}': {non_null_count}\")\n",
    "\n",
    "# Stop the Spark session\n",
    "spark.stop()"
   ]
  },
  {
   "cell_type": "code",
   "execution_count": 101,
   "id": "a24bbc56",
   "metadata": {},
   "outputs": [
    {
     "ename": "AssertionError",
     "evalue": "",
     "output_type": "error",
     "traceback": [
      "\u001b[1;31m---------------------------------------------------------------------------\u001b[0m",
      "\u001b[1;31mAssertionError\u001b[0m                            Traceback (most recent call last)",
      "Cell \u001b[1;32mIn[101], line 11\u001b[0m\n\u001b[0;32m      5\u001b[0m \u001b[38;5;28;01mfrom\u001b[39;00m \u001b[38;5;21;01mpyspark\u001b[39;00m\u001b[38;5;21;01m.\u001b[39;00m\u001b[38;5;21;01msql\u001b[39;00m\u001b[38;5;21;01m.\u001b[39;00m\u001b[38;5;21;01mfunctions\u001b[39;00m \u001b[38;5;28;01mimport\u001b[39;00m col\n\u001b[0;32m      7\u001b[0m \u001b[38;5;66;03m# Assuming you have a 'Date' column and 'Close' column in your dataset\u001b[39;00m\n\u001b[0;32m      8\u001b[0m \u001b[38;5;66;03m# You can modify the column names accordingly\u001b[39;00m\n\u001b[0;32m      9\u001b[0m \n\u001b[0;32m     10\u001b[0m \u001b[38;5;66;03m# Assuming 'Date' is a string, convert it to a numerical format\u001b[39;00m\n\u001b[1;32m---> 11\u001b[0m indexer \u001b[38;5;241m=\u001b[39m \u001b[43mStringIndexer\u001b[49m\u001b[43m(\u001b[49m\u001b[43minputCol\u001b[49m\u001b[38;5;241;43m=\u001b[39;49m\u001b[38;5;124;43m\"\u001b[39;49m\u001b[38;5;124;43mDate\u001b[39;49m\u001b[38;5;124;43m\"\u001b[39;49m\u001b[43m,\u001b[49m\u001b[43m \u001b[49m\u001b[43moutputCol\u001b[49m\u001b[38;5;241;43m=\u001b[39;49m\u001b[38;5;124;43m\"\u001b[39;49m\u001b[38;5;124;43mDateIndex\u001b[39;49m\u001b[38;5;124;43m\"\u001b[39;49m\u001b[43m)\u001b[49m\n\u001b[0;32m     12\u001b[0m stock \u001b[38;5;241m=\u001b[39m indexer\u001b[38;5;241m.\u001b[39mfit(stock)\u001b[38;5;241m.\u001b[39mtransform(stock)\n\u001b[0;32m     14\u001b[0m \u001b[38;5;66;03m# Define the feature columns manually (excluding the target 'Close' column)\u001b[39;00m\n",
      "File \u001b[1;32m~\\anaconda3\\lib\\site-packages\\pyspark\\__init__.py:139\u001b[0m, in \u001b[0;36mkeyword_only.<locals>.wrapper\u001b[1;34m(self, *args, **kwargs)\u001b[0m\n\u001b[0;32m    137\u001b[0m     \u001b[38;5;28;01mraise\u001b[39;00m \u001b[38;5;167;01mTypeError\u001b[39;00m(\u001b[38;5;124m\"\u001b[39m\u001b[38;5;124mMethod \u001b[39m\u001b[38;5;132;01m%s\u001b[39;00m\u001b[38;5;124m forces keyword arguments.\u001b[39m\u001b[38;5;124m\"\u001b[39m \u001b[38;5;241m%\u001b[39m func\u001b[38;5;241m.\u001b[39m\u001b[38;5;18m__name__\u001b[39m)\n\u001b[0;32m    138\u001b[0m \u001b[38;5;28mself\u001b[39m\u001b[38;5;241m.\u001b[39m_input_kwargs \u001b[38;5;241m=\u001b[39m kwargs\n\u001b[1;32m--> 139\u001b[0m \u001b[38;5;28;01mreturn\u001b[39;00m func(\u001b[38;5;28mself\u001b[39m, \u001b[38;5;241m*\u001b[39m\u001b[38;5;241m*\u001b[39mkwargs)\n",
      "File \u001b[1;32m~\\anaconda3\\lib\\site-packages\\pyspark\\ml\\feature.py:4650\u001b[0m, in \u001b[0;36mStringIndexer.__init__\u001b[1;34m(self, inputCol, outputCol, inputCols, outputCols, handleInvalid, stringOrderType)\u001b[0m\n\u001b[0;32m   4645\u001b[0m \u001b[38;5;124;03m\"\"\"\u001b[39;00m\n\u001b[0;32m   4646\u001b[0m \u001b[38;5;124;03m__init__(self, \\\\*, inputCol=None, outputCol=None, inputCols=None, outputCols=None, \\\u001b[39;00m\n\u001b[0;32m   4647\u001b[0m \u001b[38;5;124;03m         handleInvalid=\"error\", stringOrderType=\"frequencyDesc\")\u001b[39;00m\n\u001b[0;32m   4648\u001b[0m \u001b[38;5;124;03m\"\"\"\u001b[39;00m\n\u001b[0;32m   4649\u001b[0m \u001b[38;5;28msuper\u001b[39m(StringIndexer, \u001b[38;5;28mself\u001b[39m)\u001b[38;5;241m.\u001b[39m\u001b[38;5;21m__init__\u001b[39m()\n\u001b[1;32m-> 4650\u001b[0m \u001b[38;5;28mself\u001b[39m\u001b[38;5;241m.\u001b[39m_java_obj \u001b[38;5;241m=\u001b[39m \u001b[38;5;28;43mself\u001b[39;49m\u001b[38;5;241;43m.\u001b[39;49m\u001b[43m_new_java_obj\u001b[49m\u001b[43m(\u001b[49m\u001b[38;5;124;43m\"\u001b[39;49m\u001b[38;5;124;43morg.apache.spark.ml.feature.StringIndexer\u001b[39;49m\u001b[38;5;124;43m\"\u001b[39;49m\u001b[43m,\u001b[49m\u001b[43m \u001b[49m\u001b[38;5;28;43mself\u001b[39;49m\u001b[38;5;241;43m.\u001b[39;49m\u001b[43muid\u001b[49m\u001b[43m)\u001b[49m\n\u001b[0;32m   4651\u001b[0m kwargs \u001b[38;5;241m=\u001b[39m \u001b[38;5;28mself\u001b[39m\u001b[38;5;241m.\u001b[39m_input_kwargs\n\u001b[0;32m   4652\u001b[0m \u001b[38;5;28mself\u001b[39m\u001b[38;5;241m.\u001b[39msetParams(\u001b[38;5;241m*\u001b[39m\u001b[38;5;241m*\u001b[39mkwargs)\n",
      "File \u001b[1;32m~\\anaconda3\\lib\\site-packages\\pyspark\\ml\\wrapper.py:80\u001b[0m, in \u001b[0;36mJavaWrapper._new_java_obj\u001b[1;34m(java_class, *args)\u001b[0m\n\u001b[0;32m     76\u001b[0m \u001b[38;5;124;03m\"\"\"\u001b[39;00m\n\u001b[0;32m     77\u001b[0m \u001b[38;5;124;03mReturns a new Java object.\u001b[39;00m\n\u001b[0;32m     78\u001b[0m \u001b[38;5;124;03m\"\"\"\u001b[39;00m\n\u001b[0;32m     79\u001b[0m sc \u001b[38;5;241m=\u001b[39m SparkContext\u001b[38;5;241m.\u001b[39m_active_spark_context\n\u001b[1;32m---> 80\u001b[0m \u001b[38;5;28;01massert\u001b[39;00m sc \u001b[38;5;129;01mis\u001b[39;00m \u001b[38;5;129;01mnot\u001b[39;00m \u001b[38;5;28;01mNone\u001b[39;00m\n\u001b[0;32m     82\u001b[0m java_obj \u001b[38;5;241m=\u001b[39m _jvm()\n\u001b[0;32m     83\u001b[0m \u001b[38;5;28;01mfor\u001b[39;00m name \u001b[38;5;129;01min\u001b[39;00m java_class\u001b[38;5;241m.\u001b[39msplit(\u001b[38;5;124m\"\u001b[39m\u001b[38;5;124m.\u001b[39m\u001b[38;5;124m\"\u001b[39m):\n",
      "\u001b[1;31mAssertionError\u001b[0m: "
     ]
    }
   ],
   "source": [
    "\n",
    "\n",
    "\n",
    "# Assuming 'Date' is a string, convert it to a numerical format\n",
    "indexer = StringIndexer(inputCol=\"Date\", outputCol=\"DateIndex\")\n",
    "stock = indexer.fit(stock).transform(stock)\n",
    "\n",
    "# Define the feature columns manually (excluding the target 'Close' column)\n",
    "feature_cols = [\"DateIndex\", \"Open\", \"High\", \"Low\", \"Volume\"]\n",
    "\n",
    "# Create a new DataFrame with the selected columns\n",
    "selected_data = stock.select([\"Close\"] + feature_cols)\n",
    "\n",
    "# Define the linear regression model\n",
    "lr = LinearRegression(featuresCol='features', labelCol='Close')\n",
    "\n",
    "# Create a feature vector manually without using VectorAssembler\n",
    "assembler = VectorAssembler(inputCols=feature_cols, outputCol='features')\n",
    "pipeline = Pipeline(stages=[assembler, lr])\n",
    "\n",
    "# Split the data into training and testing sets\n",
    "train_data, test_data = selected_data.randomSplit([0.8, 0.2], seed=123)\n",
    "\n",
    "# Fit the model\n",
    "model = pipeline.fit(train_data)\n",
    "\n",
    "# Make predictions on the test data\n",
    "predictions = model.transform(test_data)\n",
    "\n",
    "# Show the predictions\n",
    "predictions.select(\"Close\", \"prediction\", *feature_cols).show()\n"
   ]
  },
  {
   "cell_type": "code",
   "execution_count": null,
   "id": "f02daca9",
   "metadata": {},
   "outputs": [],
   "source": []
  },
  {
   "cell_type": "code",
   "execution_count": null,
   "id": "546a8f0b",
   "metadata": {},
   "outputs": [],
   "source": []
  }
 ],
 "metadata": {
  "kernelspec": {
   "display_name": "Python 3 (ipykernel)",
   "language": "python",
   "name": "python3"
  },
  "language_info": {
   "codemirror_mode": {
    "name": "ipython",
    "version": 3
   },
   "file_extension": ".py",
   "mimetype": "text/x-python",
   "name": "python",
   "nbconvert_exporter": "python",
   "pygments_lexer": "ipython3",
   "version": "3.10.9"
  }
 },
 "nbformat": 4,
 "nbformat_minor": 5
}
